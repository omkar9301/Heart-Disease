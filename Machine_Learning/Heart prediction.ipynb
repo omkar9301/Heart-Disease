{
 "cells": [
  {
   "cell_type": "code",
   "execution_count": 19,
   "id": "be7b17e7",
   "metadata": {},
   "outputs": [],
   "source": [
    "import numpy as np\n",
    "import pandas as pd\n",
    "from sklearn.model_selection import train_test_split\n",
    "from sklearn.ensemble import GradientBoostingClassifier\n",
    "from sklearn.metrics import accuracy_score"
   ]
  },
  {
   "cell_type": "code",
   "execution_count": 20,
   "id": "642085db",
   "metadata": {},
   "outputs": [],
   "source": [
    "heart_data = pd.read_csv('heart.csv')"
   ]
  },
  {
   "cell_type": "code",
   "execution_count": 21,
   "id": "d92afe39",
   "metadata": {},
   "outputs": [
    {
     "data": {
      "text/html": [
       "<div>\n",
       "<style scoped>\n",
       "    .dataframe tbody tr th:only-of-type {\n",
       "        vertical-align: middle;\n",
       "    }\n",
       "\n",
       "    .dataframe tbody tr th {\n",
       "        vertical-align: top;\n",
       "    }\n",
       "\n",
       "    .dataframe thead th {\n",
       "        text-align: right;\n",
       "    }\n",
       "</style>\n",
       "<table border=\"1\" class=\"dataframe\">\n",
       "  <thead>\n",
       "    <tr style=\"text-align: right;\">\n",
       "      <th></th>\n",
       "      <th>age</th>\n",
       "      <th>sex</th>\n",
       "      <th>bp</th>\n",
       "      <th>pulset</th>\n",
       "      <th>height</th>\n",
       "      <th>weight</th>\n",
       "      <th>bmi</th>\n",
       "      <th>spo2</th>\n",
       "      <th>temp</th>\n",
       "      <th>resprate</th>\n",
       "      <th>wbc</th>\n",
       "      <th>plat</th>\n",
       "      <th>hb</th>\n",
       "      <th>hba1c</th>\n",
       "      <th>cho</th>\n",
       "      <th>target</th>\n",
       "    </tr>\n",
       "  </thead>\n",
       "  <tbody>\n",
       "    <tr>\n",
       "      <th>0</th>\n",
       "      <td>55</td>\n",
       "      <td>1</td>\n",
       "      <td>111</td>\n",
       "      <td>78</td>\n",
       "      <td>167</td>\n",
       "      <td>53.00</td>\n",
       "      <td>19.003908</td>\n",
       "      <td>0.97</td>\n",
       "      <td>98.0</td>\n",
       "      <td>18</td>\n",
       "      <td>8600</td>\n",
       "      <td>4.40</td>\n",
       "      <td>13.2</td>\n",
       "      <td>6.3</td>\n",
       "      <td>171.00</td>\n",
       "      <td>0</td>\n",
       "    </tr>\n",
       "    <tr>\n",
       "      <th>1</th>\n",
       "      <td>48</td>\n",
       "      <td>1</td>\n",
       "      <td>144</td>\n",
       "      <td>68</td>\n",
       "      <td>176</td>\n",
       "      <td>87.00</td>\n",
       "      <td>28.086260</td>\n",
       "      <td>0.99</td>\n",
       "      <td>100.0</td>\n",
       "      <td>18</td>\n",
       "      <td>4800</td>\n",
       "      <td>2.99</td>\n",
       "      <td>7.1</td>\n",
       "      <td>5.9</td>\n",
       "      <td>241.00</td>\n",
       "      <td>1</td>\n",
       "    </tr>\n",
       "    <tr>\n",
       "      <th>2</th>\n",
       "      <td>38</td>\n",
       "      <td>1</td>\n",
       "      <td>176</td>\n",
       "      <td>97</td>\n",
       "      <td>165</td>\n",
       "      <td>65.34</td>\n",
       "      <td>24.000000</td>\n",
       "      <td>0.98</td>\n",
       "      <td>98.0</td>\n",
       "      <td>18</td>\n",
       "      <td>7500</td>\n",
       "      <td>1.98</td>\n",
       "      <td>10.6</td>\n",
       "      <td>5.7</td>\n",
       "      <td>121.92</td>\n",
       "      <td>1</td>\n",
       "    </tr>\n",
       "    <tr>\n",
       "      <th>3</th>\n",
       "      <td>72</td>\n",
       "      <td>1</td>\n",
       "      <td>176</td>\n",
       "      <td>78</td>\n",
       "      <td>173</td>\n",
       "      <td>76.00</td>\n",
       "      <td>25.393431</td>\n",
       "      <td>0.96</td>\n",
       "      <td>97.8</td>\n",
       "      <td>18</td>\n",
       "      <td>3800</td>\n",
       "      <td>1.09</td>\n",
       "      <td>11.5</td>\n",
       "      <td>8.0</td>\n",
       "      <td>47.31</td>\n",
       "      <td>1</td>\n",
       "    </tr>\n",
       "    <tr>\n",
       "      <th>4</th>\n",
       "      <td>72</td>\n",
       "      <td>0</td>\n",
       "      <td>162</td>\n",
       "      <td>86</td>\n",
       "      <td>136</td>\n",
       "      <td>45.00</td>\n",
       "      <td>24.329585</td>\n",
       "      <td>0.98</td>\n",
       "      <td>98.0</td>\n",
       "      <td>18</td>\n",
       "      <td>4800</td>\n",
       "      <td>3.10</td>\n",
       "      <td>12.1</td>\n",
       "      <td>6.1</td>\n",
       "      <td>225.00</td>\n",
       "      <td>1</td>\n",
       "    </tr>\n",
       "  </tbody>\n",
       "</table>\n",
       "</div>"
      ],
      "text/plain": [
       "   age  sex   bp  pulset  height  weight        bmi  spo2   temp  resprate  \\\n",
       "0   55    1  111      78     167   53.00  19.003908  0.97   98.0        18   \n",
       "1   48    1  144      68     176   87.00  28.086260  0.99  100.0        18   \n",
       "2   38    1  176      97     165   65.34  24.000000  0.98   98.0        18   \n",
       "3   72    1  176      78     173   76.00  25.393431  0.96   97.8        18   \n",
       "4   72    0  162      86     136   45.00  24.329585  0.98   98.0        18   \n",
       "\n",
       "    wbc  plat    hb  hba1c     cho  target  \n",
       "0  8600  4.40  13.2    6.3  171.00       0  \n",
       "1  4800  2.99   7.1    5.9  241.00       1  \n",
       "2  7500  1.98  10.6    5.7  121.92       1  \n",
       "3  3800  1.09  11.5    8.0   47.31       1  \n",
       "4  4800  3.10  12.1    6.1  225.00       1  "
      ]
     },
     "execution_count": 21,
     "metadata": {},
     "output_type": "execute_result"
    }
   ],
   "source": [
    "heart_data.head()"
   ]
  },
  {
   "cell_type": "code",
   "execution_count": 22,
   "id": "ba23d172",
   "metadata": {},
   "outputs": [
    {
     "data": {
      "text/html": [
       "<div>\n",
       "<style scoped>\n",
       "    .dataframe tbody tr th:only-of-type {\n",
       "        vertical-align: middle;\n",
       "    }\n",
       "\n",
       "    .dataframe tbody tr th {\n",
       "        vertical-align: top;\n",
       "    }\n",
       "\n",
       "    .dataframe thead th {\n",
       "        text-align: right;\n",
       "    }\n",
       "</style>\n",
       "<table border=\"1\" class=\"dataframe\">\n",
       "  <thead>\n",
       "    <tr style=\"text-align: right;\">\n",
       "      <th></th>\n",
       "      <th>age</th>\n",
       "      <th>sex</th>\n",
       "      <th>bp</th>\n",
       "      <th>pulset</th>\n",
       "      <th>height</th>\n",
       "      <th>weight</th>\n",
       "      <th>bmi</th>\n",
       "      <th>spo2</th>\n",
       "      <th>temp</th>\n",
       "      <th>resprate</th>\n",
       "      <th>wbc</th>\n",
       "      <th>plat</th>\n",
       "      <th>hb</th>\n",
       "      <th>hba1c</th>\n",
       "      <th>cho</th>\n",
       "      <th>target</th>\n",
       "    </tr>\n",
       "  </thead>\n",
       "  <tbody>\n",
       "    <tr>\n",
       "      <th>69</th>\n",
       "      <td>68</td>\n",
       "      <td>1</td>\n",
       "      <td>123</td>\n",
       "      <td>38</td>\n",
       "      <td>174</td>\n",
       "      <td>72.90</td>\n",
       "      <td>24.078478</td>\n",
       "      <td>0.98</td>\n",
       "      <td>98.0</td>\n",
       "      <td>20</td>\n",
       "      <td>7100</td>\n",
       "      <td>2.25</td>\n",
       "      <td>14.8</td>\n",
       "      <td>6.3</td>\n",
       "      <td>193.0</td>\n",
       "      <td>0</td>\n",
       "    </tr>\n",
       "    <tr>\n",
       "      <th>70</th>\n",
       "      <td>38</td>\n",
       "      <td>1</td>\n",
       "      <td>149</td>\n",
       "      <td>72</td>\n",
       "      <td>165</td>\n",
       "      <td>65.34</td>\n",
       "      <td>24.000000</td>\n",
       "      <td>0.98</td>\n",
       "      <td>98.0</td>\n",
       "      <td>18</td>\n",
       "      <td>11200</td>\n",
       "      <td>3.93</td>\n",
       "      <td>12.9</td>\n",
       "      <td>5.7</td>\n",
       "      <td>96.6</td>\n",
       "      <td>1</td>\n",
       "    </tr>\n",
       "    <tr>\n",
       "      <th>71</th>\n",
       "      <td>58</td>\n",
       "      <td>1</td>\n",
       "      <td>170</td>\n",
       "      <td>68</td>\n",
       "      <td>165</td>\n",
       "      <td>57.00</td>\n",
       "      <td>20.936639</td>\n",
       "      <td>0.93</td>\n",
       "      <td>98.0</td>\n",
       "      <td>15</td>\n",
       "      <td>6900</td>\n",
       "      <td>2.11</td>\n",
       "      <td>11.5</td>\n",
       "      <td>6.1</td>\n",
       "      <td>101.0</td>\n",
       "      <td>1</td>\n",
       "    </tr>\n",
       "    <tr>\n",
       "      <th>72</th>\n",
       "      <td>76</td>\n",
       "      <td>0</td>\n",
       "      <td>166</td>\n",
       "      <td>65</td>\n",
       "      <td>165</td>\n",
       "      <td>65.34</td>\n",
       "      <td>24.000000</td>\n",
       "      <td>0.96</td>\n",
       "      <td>100.0</td>\n",
       "      <td>15</td>\n",
       "      <td>6600</td>\n",
       "      <td>1.09</td>\n",
       "      <td>11.8</td>\n",
       "      <td>8.8</td>\n",
       "      <td>163.9</td>\n",
       "      <td>1</td>\n",
       "    </tr>\n",
       "    <tr>\n",
       "      <th>73</th>\n",
       "      <td>68</td>\n",
       "      <td>1</td>\n",
       "      <td>174</td>\n",
       "      <td>56</td>\n",
       "      <td>161</td>\n",
       "      <td>74.00</td>\n",
       "      <td>28.548281</td>\n",
       "      <td>0.94</td>\n",
       "      <td>98.0</td>\n",
       "      <td>20</td>\n",
       "      <td>8800</td>\n",
       "      <td>3.10</td>\n",
       "      <td>13.2</td>\n",
       "      <td>6.3</td>\n",
       "      <td>287.0</td>\n",
       "      <td>1</td>\n",
       "    </tr>\n",
       "  </tbody>\n",
       "</table>\n",
       "</div>"
      ],
      "text/plain": [
       "    age  sex   bp  pulset  height  weight        bmi  spo2   temp  resprate  \\\n",
       "69   68    1  123      38     174   72.90  24.078478  0.98   98.0        20   \n",
       "70   38    1  149      72     165   65.34  24.000000  0.98   98.0        18   \n",
       "71   58    1  170      68     165   57.00  20.936639  0.93   98.0        15   \n",
       "72   76    0  166      65     165   65.34  24.000000  0.96  100.0        15   \n",
       "73   68    1  174      56     161   74.00  28.548281  0.94   98.0        20   \n",
       "\n",
       "      wbc  plat    hb  hba1c    cho  target  \n",
       "69   7100  2.25  14.8    6.3  193.0       0  \n",
       "70  11200  3.93  12.9    5.7   96.6       1  \n",
       "71   6900  2.11  11.5    6.1  101.0       1  \n",
       "72   6600  1.09  11.8    8.8  163.9       1  \n",
       "73   8800  3.10  13.2    6.3  287.0       1  "
      ]
     },
     "execution_count": 22,
     "metadata": {},
     "output_type": "execute_result"
    }
   ],
   "source": [
    "heart_data.tail()"
   ]
  },
  {
   "cell_type": "code",
   "execution_count": 23,
   "id": "474ce46f",
   "metadata": {},
   "outputs": [
    {
     "data": {
      "text/plain": [
       "(74, 16)"
      ]
     },
     "execution_count": 23,
     "metadata": {},
     "output_type": "execute_result"
    }
   ],
   "source": [
    "heart_data.shape"
   ]
  },
  {
   "cell_type": "code",
   "execution_count": 24,
   "id": "9d988bc9",
   "metadata": {},
   "outputs": [
    {
     "name": "stdout",
     "output_type": "stream",
     "text": [
      "<class 'pandas.core.frame.DataFrame'>\n",
      "RangeIndex: 74 entries, 0 to 73\n",
      "Data columns (total 16 columns):\n",
      " #   Column    Non-Null Count  Dtype  \n",
      "---  ------    --------------  -----  \n",
      " 0   age       74 non-null     int64  \n",
      " 1   sex       74 non-null     int64  \n",
      " 2   bp        74 non-null     int64  \n",
      " 3   pulset    74 non-null     int64  \n",
      " 4   height    74 non-null     int64  \n",
      " 5   weight    74 non-null     float64\n",
      " 6   bmi       74 non-null     float64\n",
      " 7   spo2      74 non-null     float64\n",
      " 8   temp      74 non-null     float64\n",
      " 9   resprate  74 non-null     int64  \n",
      " 10  wbc       74 non-null     int64  \n",
      " 11  plat      74 non-null     float64\n",
      " 12  hb        74 non-null     float64\n",
      " 13  hba1c     74 non-null     float64\n",
      " 14  cho       74 non-null     float64\n",
      " 15  target    74 non-null     int64  \n",
      "dtypes: float64(8), int64(8)\n",
      "memory usage: 9.4 KB\n"
     ]
    }
   ],
   "source": [
    "heart_data.info()"
   ]
  },
  {
   "cell_type": "code",
   "execution_count": 25,
   "id": "1af7ae8c",
   "metadata": {},
   "outputs": [
    {
     "data": {
      "text/plain": [
       "age         0\n",
       "sex         0\n",
       "bp          0\n",
       "pulset      0\n",
       "height      0\n",
       "weight      0\n",
       "bmi         0\n",
       "spo2        0\n",
       "temp        0\n",
       "resprate    0\n",
       "wbc         0\n",
       "plat        0\n",
       "hb          0\n",
       "hba1c       0\n",
       "cho         0\n",
       "target      0\n",
       "dtype: int64"
      ]
     },
     "execution_count": 25,
     "metadata": {},
     "output_type": "execute_result"
    }
   ],
   "source": [
    "heart_data.isnull().sum()"
   ]
  },
  {
   "cell_type": "code",
   "execution_count": 26,
   "id": "f220160c",
   "metadata": {},
   "outputs": [
    {
     "data": {
      "text/html": [
       "<div>\n",
       "<style scoped>\n",
       "    .dataframe tbody tr th:only-of-type {\n",
       "        vertical-align: middle;\n",
       "    }\n",
       "\n",
       "    .dataframe tbody tr th {\n",
       "        vertical-align: top;\n",
       "    }\n",
       "\n",
       "    .dataframe thead th {\n",
       "        text-align: right;\n",
       "    }\n",
       "</style>\n",
       "<table border=\"1\" class=\"dataframe\">\n",
       "  <thead>\n",
       "    <tr style=\"text-align: right;\">\n",
       "      <th></th>\n",
       "      <th>age</th>\n",
       "      <th>sex</th>\n",
       "      <th>bp</th>\n",
       "      <th>pulset</th>\n",
       "      <th>height</th>\n",
       "      <th>weight</th>\n",
       "      <th>bmi</th>\n",
       "      <th>spo2</th>\n",
       "      <th>temp</th>\n",
       "      <th>resprate</th>\n",
       "      <th>wbc</th>\n",
       "      <th>plat</th>\n",
       "      <th>hb</th>\n",
       "      <th>hba1c</th>\n",
       "      <th>cho</th>\n",
       "      <th>target</th>\n",
       "    </tr>\n",
       "  </thead>\n",
       "  <tbody>\n",
       "    <tr>\n",
       "      <th>count</th>\n",
       "      <td>74.000000</td>\n",
       "      <td>74.000000</td>\n",
       "      <td>74.000000</td>\n",
       "      <td>74.000000</td>\n",
       "      <td>74.000000</td>\n",
       "      <td>74.000000</td>\n",
       "      <td>74.000000</td>\n",
       "      <td>74.000000</td>\n",
       "      <td>74.000000</td>\n",
       "      <td>74.000000</td>\n",
       "      <td>74.00000</td>\n",
       "      <td>74.000000</td>\n",
       "      <td>74.000000</td>\n",
       "      <td>74.000000</td>\n",
       "      <td>74.000000</td>\n",
       "      <td>74.000000</td>\n",
       "    </tr>\n",
       "    <tr>\n",
       "      <th>mean</th>\n",
       "      <td>59.148649</td>\n",
       "      <td>0.662162</td>\n",
       "      <td>141.689189</td>\n",
       "      <td>83.986486</td>\n",
       "      <td>161.540541</td>\n",
       "      <td>69.098919</td>\n",
       "      <td>26.473792</td>\n",
       "      <td>0.961486</td>\n",
       "      <td>98.562162</td>\n",
       "      <td>20.405405</td>\n",
       "      <td>8500.00000</td>\n",
       "      <td>2.516757</td>\n",
       "      <td>12.244595</td>\n",
       "      <td>6.645946</td>\n",
       "      <td>193.927297</td>\n",
       "      <td>0.702703</td>\n",
       "    </tr>\n",
       "    <tr>\n",
       "      <th>std</th>\n",
       "      <td>14.173758</td>\n",
       "      <td>0.476201</td>\n",
       "      <td>23.294967</td>\n",
       "      <td>20.489552</td>\n",
       "      <td>8.722808</td>\n",
       "      <td>11.113364</td>\n",
       "      <td>3.847596</td>\n",
       "      <td>0.063950</td>\n",
       "      <td>1.186072</td>\n",
       "      <td>9.634298</td>\n",
       "      <td>3564.51307</td>\n",
       "      <td>0.893893</td>\n",
       "      <td>1.817279</td>\n",
       "      <td>0.960478</td>\n",
       "      <td>63.590256</td>\n",
       "      <td>0.460188</td>\n",
       "    </tr>\n",
       "    <tr>\n",
       "      <th>min</th>\n",
       "      <td>24.000000</td>\n",
       "      <td>0.000000</td>\n",
       "      <td>86.000000</td>\n",
       "      <td>38.000000</td>\n",
       "      <td>136.000000</td>\n",
       "      <td>39.000000</td>\n",
       "      <td>19.003908</td>\n",
       "      <td>0.560000</td>\n",
       "      <td>96.000000</td>\n",
       "      <td>15.000000</td>\n",
       "      <td>3800.00000</td>\n",
       "      <td>1.090000</td>\n",
       "      <td>7.100000</td>\n",
       "      <td>5.700000</td>\n",
       "      <td>47.310000</td>\n",
       "      <td>0.000000</td>\n",
       "    </tr>\n",
       "    <tr>\n",
       "      <th>25%</th>\n",
       "      <td>48.500000</td>\n",
       "      <td>0.000000</td>\n",
       "      <td>123.500000</td>\n",
       "      <td>72.000000</td>\n",
       "      <td>157.000000</td>\n",
       "      <td>65.000000</td>\n",
       "      <td>24.000000</td>\n",
       "      <td>0.960000</td>\n",
       "      <td>98.000000</td>\n",
       "      <td>18.000000</td>\n",
       "      <td>6125.00000</td>\n",
       "      <td>1.875000</td>\n",
       "      <td>11.050000</td>\n",
       "      <td>5.900000</td>\n",
       "      <td>150.500000</td>\n",
       "      <td>0.000000</td>\n",
       "    </tr>\n",
       "    <tr>\n",
       "      <th>50%</th>\n",
       "      <td>62.000000</td>\n",
       "      <td>1.000000</td>\n",
       "      <td>140.000000</td>\n",
       "      <td>80.000000</td>\n",
       "      <td>165.000000</td>\n",
       "      <td>69.800000</td>\n",
       "      <td>26.078972</td>\n",
       "      <td>0.980000</td>\n",
       "      <td>98.000000</td>\n",
       "      <td>18.000000</td>\n",
       "      <td>7900.00000</td>\n",
       "      <td>2.600000</td>\n",
       "      <td>12.100000</td>\n",
       "      <td>6.300000</td>\n",
       "      <td>193.500000</td>\n",
       "      <td>1.000000</td>\n",
       "    </tr>\n",
       "    <tr>\n",
       "      <th>75%</th>\n",
       "      <td>70.000000</td>\n",
       "      <td>1.000000</td>\n",
       "      <td>161.750000</td>\n",
       "      <td>90.000000</td>\n",
       "      <td>165.000000</td>\n",
       "      <td>74.750000</td>\n",
       "      <td>28.901910</td>\n",
       "      <td>0.990000</td>\n",
       "      <td>99.000000</td>\n",
       "      <td>20.000000</td>\n",
       "      <td>10350.00000</td>\n",
       "      <td>3.130000</td>\n",
       "      <td>13.500000</td>\n",
       "      <td>7.600000</td>\n",
       "      <td>248.750000</td>\n",
       "      <td>1.000000</td>\n",
       "    </tr>\n",
       "    <tr>\n",
       "      <th>max</th>\n",
       "      <td>84.000000</td>\n",
       "      <td>1.000000</td>\n",
       "      <td>190.000000</td>\n",
       "      <td>180.000000</td>\n",
       "      <td>179.000000</td>\n",
       "      <td>94.000000</td>\n",
       "      <td>37.105751</td>\n",
       "      <td>1.000000</td>\n",
       "      <td>102.800000</td>\n",
       "      <td>90.000000</td>\n",
       "      <td>23200.00000</td>\n",
       "      <td>4.400000</td>\n",
       "      <td>15.300000</td>\n",
       "      <td>8.800000</td>\n",
       "      <td>297.000000</td>\n",
       "      <td>1.000000</td>\n",
       "    </tr>\n",
       "  </tbody>\n",
       "</table>\n",
       "</div>"
      ],
      "text/plain": [
       "             age        sex          bp      pulset      height     weight  \\\n",
       "count  74.000000  74.000000   74.000000   74.000000   74.000000  74.000000   \n",
       "mean   59.148649   0.662162  141.689189   83.986486  161.540541  69.098919   \n",
       "std    14.173758   0.476201   23.294967   20.489552    8.722808  11.113364   \n",
       "min    24.000000   0.000000   86.000000   38.000000  136.000000  39.000000   \n",
       "25%    48.500000   0.000000  123.500000   72.000000  157.000000  65.000000   \n",
       "50%    62.000000   1.000000  140.000000   80.000000  165.000000  69.800000   \n",
       "75%    70.000000   1.000000  161.750000   90.000000  165.000000  74.750000   \n",
       "max    84.000000   1.000000  190.000000  180.000000  179.000000  94.000000   \n",
       "\n",
       "             bmi       spo2        temp   resprate          wbc       plat  \\\n",
       "count  74.000000  74.000000   74.000000  74.000000     74.00000  74.000000   \n",
       "mean   26.473792   0.961486   98.562162  20.405405   8500.00000   2.516757   \n",
       "std     3.847596   0.063950    1.186072   9.634298   3564.51307   0.893893   \n",
       "min    19.003908   0.560000   96.000000  15.000000   3800.00000   1.090000   \n",
       "25%    24.000000   0.960000   98.000000  18.000000   6125.00000   1.875000   \n",
       "50%    26.078972   0.980000   98.000000  18.000000   7900.00000   2.600000   \n",
       "75%    28.901910   0.990000   99.000000  20.000000  10350.00000   3.130000   \n",
       "max    37.105751   1.000000  102.800000  90.000000  23200.00000   4.400000   \n",
       "\n",
       "              hb      hba1c         cho     target  \n",
       "count  74.000000  74.000000   74.000000  74.000000  \n",
       "mean   12.244595   6.645946  193.927297   0.702703  \n",
       "std     1.817279   0.960478   63.590256   0.460188  \n",
       "min     7.100000   5.700000   47.310000   0.000000  \n",
       "25%    11.050000   5.900000  150.500000   0.000000  \n",
       "50%    12.100000   6.300000  193.500000   1.000000  \n",
       "75%    13.500000   7.600000  248.750000   1.000000  \n",
       "max    15.300000   8.800000  297.000000   1.000000  "
      ]
     },
     "execution_count": 26,
     "metadata": {},
     "output_type": "execute_result"
    }
   ],
   "source": [
    "heart_data.describe()"
   ]
  },
  {
   "cell_type": "code",
   "execution_count": 27,
   "id": "5f76af51",
   "metadata": {},
   "outputs": [
    {
     "data": {
      "text/plain": [
       "target\n",
       "1    52\n",
       "0    22\n",
       "Name: count, dtype: int64"
      ]
     },
     "execution_count": 27,
     "metadata": {},
     "output_type": "execute_result"
    }
   ],
   "source": [
    "heart_data['target'].value_counts()"
   ]
  },
  {
   "cell_type": "code",
   "execution_count": 28,
   "id": "f42a2a9e",
   "metadata": {},
   "outputs": [],
   "source": [
    "X = heart_data.drop(columns='target', axis=1)\n",
    "Y = heart_data['target']"
   ]
  },
  {
   "cell_type": "code",
   "execution_count": 29,
   "id": "553c9455",
   "metadata": {},
   "outputs": [
    {
     "name": "stdout",
     "output_type": "stream",
     "text": [
      "    age  sex   bp  pulset  height  weight        bmi  spo2   temp  resprate  \\\n",
      "0    55    1  111      78     167   53.00  19.003908  0.97   98.0        18   \n",
      "1    48    1  144      68     176   87.00  28.086260  0.99  100.0        18   \n",
      "2    38    1  176      97     165   65.34  24.000000  0.98   98.0        18   \n",
      "3    72    1  176      78     173   76.00  25.393431  0.96   97.8        18   \n",
      "4    72    0  162      86     136   45.00  24.329585  0.98   98.0        18   \n",
      "..  ...  ...  ...     ...     ...     ...        ...   ...    ...       ...   \n",
      "69   68    1  123      38     174   72.90  24.078478  0.98   98.0        20   \n",
      "70   38    1  149      72     165   65.34  24.000000  0.98   98.0        18   \n",
      "71   58    1  170      68     165   57.00  20.936639  0.93   98.0        15   \n",
      "72   76    0  166      65     165   65.34  24.000000  0.96  100.0        15   \n",
      "73   68    1  174      56     161   74.00  28.548281  0.94   98.0        20   \n",
      "\n",
      "      wbc  plat    hb  hba1c     cho  \n",
      "0    8600  4.40  13.2    6.3  171.00  \n",
      "1    4800  2.99   7.1    5.9  241.00  \n",
      "2    7500  1.98  10.6    5.7  121.92  \n",
      "3    3800  1.09  11.5    8.0   47.31  \n",
      "4    4800  3.10  12.1    6.1  225.00  \n",
      "..    ...   ...   ...    ...     ...  \n",
      "69   7100  2.25  14.8    6.3  193.00  \n",
      "70  11200  3.93  12.9    5.7   96.60  \n",
      "71   6900  2.11  11.5    6.1  101.00  \n",
      "72   6600  1.09  11.8    8.8  163.90  \n",
      "73   8800  3.10  13.2    6.3  287.00  \n",
      "\n",
      "[74 rows x 15 columns]\n"
     ]
    }
   ],
   "source": [
    "print(X)"
   ]
  },
  {
   "cell_type": "code",
   "execution_count": 30,
   "id": "9b2772df",
   "metadata": {},
   "outputs": [
    {
     "name": "stdout",
     "output_type": "stream",
     "text": [
      "0     0\n",
      "1     1\n",
      "2     1\n",
      "3     1\n",
      "4     1\n",
      "     ..\n",
      "69    0\n",
      "70    1\n",
      "71    1\n",
      "72    1\n",
      "73    1\n",
      "Name: target, Length: 74, dtype: int64\n"
     ]
    }
   ],
   "source": [
    "print(Y)"
   ]
  },
  {
   "cell_type": "code",
   "execution_count": 31,
   "id": "27ccb95d",
   "metadata": {},
   "outputs": [],
   "source": [
    "X_train, X_test, Y_train, Y_test = train_test_split(X, Y, test_size=0.2, stratify=Y, random_state=2)"
   ]
  },
  {
   "cell_type": "code",
   "execution_count": 32,
   "id": "e5dee1b8",
   "metadata": {},
   "outputs": [],
   "source": [
    "from sklearn.preprocessing import StandardScaler\n",
    "\n",
    "scaler = StandardScaler()\n",
    "X_train = scaler.fit_transform(X_train)\n",
    "X_test = scaler.transform(X_test)\n"
   ]
  },
  {
   "cell_type": "code",
   "execution_count": 33,
   "id": "5c8d0e9b",
   "metadata": {},
   "outputs": [
    {
     "name": "stdout",
     "output_type": "stream",
     "text": [
      "(74, 15) (59, 15) (15, 15)\n"
     ]
    }
   ],
   "source": [
    "print(X.shape, X_train.shape, X_test.shape)"
   ]
  },
  {
   "cell_type": "code",
   "execution_count": 34,
   "id": "9f49a614",
   "metadata": {},
   "outputs": [],
   "source": [
    "from sklearn.ensemble import HistGradientBoostingClassifier\n",
    "\n",
    "model = HistGradientBoostingClassifier(max_iter=2000)\n"
   ]
  },
  {
   "cell_type": "code",
   "execution_count": 35,
   "id": "a833c918",
   "metadata": {},
   "outputs": [
    {
     "data": {
      "text/html": [
       "<style>#sk-container-id-1 {color: black;}#sk-container-id-1 pre{padding: 0;}#sk-container-id-1 div.sk-toggleable {background-color: white;}#sk-container-id-1 label.sk-toggleable__label {cursor: pointer;display: block;width: 100%;margin-bottom: 0;padding: 0.3em;box-sizing: border-box;text-align: center;}#sk-container-id-1 label.sk-toggleable__label-arrow:before {content: \"▸\";float: left;margin-right: 0.25em;color: #696969;}#sk-container-id-1 label.sk-toggleable__label-arrow:hover:before {color: black;}#sk-container-id-1 div.sk-estimator:hover label.sk-toggleable__label-arrow:before {color: black;}#sk-container-id-1 div.sk-toggleable__content {max-height: 0;max-width: 0;overflow: hidden;text-align: left;background-color: #f0f8ff;}#sk-container-id-1 div.sk-toggleable__content pre {margin: 0.2em;color: black;border-radius: 0.25em;background-color: #f0f8ff;}#sk-container-id-1 input.sk-toggleable__control:checked~div.sk-toggleable__content {max-height: 200px;max-width: 100%;overflow: auto;}#sk-container-id-1 input.sk-toggleable__control:checked~label.sk-toggleable__label-arrow:before {content: \"▾\";}#sk-container-id-1 div.sk-estimator input.sk-toggleable__control:checked~label.sk-toggleable__label {background-color: #d4ebff;}#sk-container-id-1 div.sk-label input.sk-toggleable__control:checked~label.sk-toggleable__label {background-color: #d4ebff;}#sk-container-id-1 input.sk-hidden--visually {border: 0;clip: rect(1px 1px 1px 1px);clip: rect(1px, 1px, 1px, 1px);height: 1px;margin: -1px;overflow: hidden;padding: 0;position: absolute;width: 1px;}#sk-container-id-1 div.sk-estimator {font-family: monospace;background-color: #f0f8ff;border: 1px dotted black;border-radius: 0.25em;box-sizing: border-box;margin-bottom: 0.5em;}#sk-container-id-1 div.sk-estimator:hover {background-color: #d4ebff;}#sk-container-id-1 div.sk-parallel-item::after {content: \"\";width: 100%;border-bottom: 1px solid gray;flex-grow: 1;}#sk-container-id-1 div.sk-label:hover label.sk-toggleable__label {background-color: #d4ebff;}#sk-container-id-1 div.sk-serial::before {content: \"\";position: absolute;border-left: 1px solid gray;box-sizing: border-box;top: 0;bottom: 0;left: 50%;z-index: 0;}#sk-container-id-1 div.sk-serial {display: flex;flex-direction: column;align-items: center;background-color: white;padding-right: 0.2em;padding-left: 0.2em;position: relative;}#sk-container-id-1 div.sk-item {position: relative;z-index: 1;}#sk-container-id-1 div.sk-parallel {display: flex;align-items: stretch;justify-content: center;background-color: white;position: relative;}#sk-container-id-1 div.sk-item::before, #sk-container-id-1 div.sk-parallel-item::before {content: \"\";position: absolute;border-left: 1px solid gray;box-sizing: border-box;top: 0;bottom: 0;left: 50%;z-index: -1;}#sk-container-id-1 div.sk-parallel-item {display: flex;flex-direction: column;z-index: 1;position: relative;background-color: white;}#sk-container-id-1 div.sk-parallel-item:first-child::after {align-self: flex-end;width: 50%;}#sk-container-id-1 div.sk-parallel-item:last-child::after {align-self: flex-start;width: 50%;}#sk-container-id-1 div.sk-parallel-item:only-child::after {width: 0;}#sk-container-id-1 div.sk-dashed-wrapped {border: 1px dashed gray;margin: 0 0.4em 0.5em 0.4em;box-sizing: border-box;padding-bottom: 0.4em;background-color: white;}#sk-container-id-1 div.sk-label label {font-family: monospace;font-weight: bold;display: inline-block;line-height: 1.2em;}#sk-container-id-1 div.sk-label-container {text-align: center;}#sk-container-id-1 div.sk-container {/* jupyter's `normalize.less` sets `[hidden] { display: none; }` but bootstrap.min.css set `[hidden] { display: none !important; }` so we also need the `!important` here to be able to override the default hidden behavior on the sphinx rendered scikit-learn.org. See: https://github.com/scikit-learn/scikit-learn/issues/21755 */display: inline-block !important;position: relative;}#sk-container-id-1 div.sk-text-repr-fallback {display: none;}</style><div id=\"sk-container-id-1\" class=\"sk-top-container\"><div class=\"sk-text-repr-fallback\"><pre>HistGradientBoostingClassifier(max_iter=2000)</pre><b>In a Jupyter environment, please rerun this cell to show the HTML representation or trust the notebook. <br />On GitHub, the HTML representation is unable to render, please try loading this page with nbviewer.org.</b></div><div class=\"sk-container\" hidden><div class=\"sk-item\"><div class=\"sk-estimator sk-toggleable\"><input class=\"sk-toggleable__control sk-hidden--visually\" id=\"sk-estimator-id-1\" type=\"checkbox\" checked><label for=\"sk-estimator-id-1\" class=\"sk-toggleable__label sk-toggleable__label-arrow\">HistGradientBoostingClassifier</label><div class=\"sk-toggleable__content\"><pre>HistGradientBoostingClassifier(max_iter=2000)</pre></div></div></div></div></div>"
      ],
      "text/plain": [
       "HistGradientBoostingClassifier(max_iter=2000)"
      ]
     },
     "execution_count": 35,
     "metadata": {},
     "output_type": "execute_result"
    }
   ],
   "source": [
    "model.fit(X_train, Y_train)"
   ]
  },
  {
   "cell_type": "code",
   "execution_count": 36,
   "id": "3de7b621",
   "metadata": {},
   "outputs": [],
   "source": [
    "X_train_prediction = model.predict(X_train)\n",
    "training_data_accuracy = accuracy_score(X_train_prediction, Y_train)"
   ]
  },
  {
   "cell_type": "code",
   "execution_count": 37,
   "id": "c8c596d6",
   "metadata": {},
   "outputs": [
    {
     "name": "stdout",
     "output_type": "stream",
     "text": [
      "Accuracy on Training data :  1.0\n"
     ]
    }
   ],
   "source": [
    "print('Accuracy on Training data : ', training_data_accuracy)"
   ]
  },
  {
   "cell_type": "code",
   "execution_count": 38,
   "id": "79fc0f6b",
   "metadata": {},
   "outputs": [],
   "source": [
    "X_test_prediction = model.predict(X_test)\n",
    "test_data_accuracy = accuracy_score(X_test_prediction, Y_test)"
   ]
  },
  {
   "cell_type": "code",
   "execution_count": 39,
   "id": "45aeaa3f",
   "metadata": {},
   "outputs": [
    {
     "name": "stdout",
     "output_type": "stream",
     "text": [
      "Accuracy on Test data :  1.0\n"
     ]
    }
   ],
   "source": [
    "print('Accuracy on Test data : ', test_data_accuracy)"
   ]
  },
  {
   "cell_type": "code",
   "execution_count": 40,
   "id": "2bf2e860",
   "metadata": {},
   "outputs": [],
   "source": [
    "input_data = (55,1,111,78,167,53,19.00390835,0.97,98,18,8600,4.4,13.2,6.3,171)"
   ]
  },
  {
   "cell_type": "code",
   "execution_count": 41,
   "id": "d0859135",
   "metadata": {},
   "outputs": [
    {
     "name": "stdout",
     "output_type": "stream",
     "text": [
      "[1]\n",
      "The Person has Heart Disease\n"
     ]
    }
   ],
   "source": [
    "input_data_as_numpy_array= np.asarray(input_data)\n",
    "input_data_reshaped = input_data_as_numpy_array.reshape(1,-1)\n",
    "prediction = model.predict(input_data_reshaped)\n",
    "print(prediction)\n",
    "if (prediction[0]== 0):\n",
    "    print('The Person does not have a Heart Disease')\n",
    "else:\n",
    "    print('The Person has Heart Disease')"
   ]
  }
 ],
 "metadata": {
  "kernelspec": {
   "display_name": "Python 3",
   "language": "python",
   "name": "python3"
  },
  "language_info": {
   "codemirror_mode": {
    "name": "ipython",
    "version": 3
   },
   "file_extension": ".py",
   "mimetype": "text/x-python",
   "name": "python",
   "nbconvert_exporter": "python",
   "pygments_lexer": "ipython3",
   "version": "3.10.10"
  }
 },
 "nbformat": 4,
 "nbformat_minor": 5
}
